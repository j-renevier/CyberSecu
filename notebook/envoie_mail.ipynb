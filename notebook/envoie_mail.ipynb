{
 "cells": [
  {
   "cell_type": "code",
   "execution_count": null,
   "metadata": {},
   "outputs": [],
   "source": [
    "%pip install secure-smtplib"
   ]
  },
  {
   "cell_type": "code",
   "execution_count": 2,
   "metadata": {},
   "outputs": [],
   "source": [
    "import smtplib\n",
    "from email.mime.text import MIMEText\n",
    "from email.mime.multipart import MIMEMultipart\n",
    "from email.mime.base import MIMEBase\n",
    "from email import encoders\n",
    "import os\n",
    "\n",
    "# Paramètres du compte Gmail\n",
    "smtp_server = \"smtp.gmail.com\"\n",
    "smtp_port = 587\n",
    "email_address = \"anneus100@gmail.com\"  # Remplacez par votre adresse email\n",
    "app_password = \"hrdy vqgy wurs naws\"  # Mot de passe d'application\n",
    "\n",
    "# Fonction pour envoyer un e-mail avec pièce jointe\n",
    "def send_email(to_email, subject, body, attachment_path=None):\n",
    "    try:\n",
    "        # Création du message\n",
    "        message = MIMEMultipart()\n",
    "        message[\"From\"] = email_address\n",
    "        message[\"To\"] = to_email\n",
    "        message[\"Subject\"] = subject\n",
    "\n",
    "        # Ajout du contenu texte\n",
    "        message.attach(MIMEText(body, \"plain\"))\n",
    "\n",
    "        # Ajout de la pièce jointe si fournie\n",
    "        if attachment_path:\n",
    "            # Vérifie que le fichier existe\n",
    "            if os.path.isfile(attachment_path):\n",
    "                with open(attachment_path, \"rb\") as attachment:\n",
    "                    part = MIMEBase(\"application\", \"octet-stream\")\n",
    "                    part.set_payload(attachment.read())\n",
    "                # Encodage en base64 pour le transfert\n",
    "                encoders.encode_base64(part)\n",
    "                part.add_header(\n",
    "                    \"Content-Disposition\",\n",
    "                    f\"attachment; filename={os.path.basename(attachment_path)}\",\n",
    "                )\n",
    "                # Ajout de la pièce jointe au message\n",
    "                message.attach(part)\n",
    "            else:\n",
    "                print(f\"Le fichier '{attachment_path}' n'existe pas.\")\n",
    "                return\n",
    "\n",
    "        # Connexion au serveur SMTP Gmail\n",
    "        server = smtplib.SMTP(smtp_server, smtp_port)\n",
    "        server.starttls()  # Chiffrement de la connexion\n",
    "        server.login(email_address, app_password)\n",
    "\n",
    "        # Envoi de l'e-mail\n",
    "        server.sendmail(email_address, to_email, message.as_string())\n",
    "\n",
    "        # Fermeture de la connexion\n",
    "        server.quit()\n",
    "        print(\"E-mail envoyé avec succès.\")\n",
    "\n",
    "    except Exception as e:\n",
    "        print(f\"Erreur lors de l'envoi de l'e-mail : {e}\")"
   ]
  },
  {
   "cell_type": "code",
   "execution_count": 4,
   "metadata": {},
   "outputs": [
    {
     "name": "stdout",
     "output_type": "stream",
     "text": [
      "E-mail envoyé avec succès.\n"
     ]
    }
   ],
   "source": [
    "\n",
    "# Paramètres du mail\n",
    "to_email = \"anneus100@gmail.com\"  # Remplacez par l'adresse du destinataire\n",
    "subject = \"Test d'envoi d'e-mail avec pièce jointe\"\n",
    "body = \"Bonjour,\\n\\nCeci est un test d'envoi d'e-mail avec une pièce jointe.\\n\\nCordialement.\"\n",
    "attachment_path = \"./script.py\"  # Chemin vers la pièce jointe\n",
    "\n",
    "# Appel de la fonction\n",
    "send_email(to_email, subject, body, attachment_path)"
   ]
  },
  {
   "cell_type": "code",
   "execution_count": null,
   "metadata": {},
   "outputs": [],
   "source": []
  }
 ],
 "metadata": {
  "kernelspec": {
   "display_name": ".venv",
   "language": "python",
   "name": "python3"
  },
  "language_info": {
   "codemirror_mode": {
    "name": "ipython",
    "version": 3
   },
   "file_extension": ".py",
   "mimetype": "text/x-python",
   "name": "python",
   "nbconvert_exporter": "python",
   "pygments_lexer": "ipython3",
   "version": "3.12.7"
  }
 },
 "nbformat": 4,
 "nbformat_minor": 2
}
