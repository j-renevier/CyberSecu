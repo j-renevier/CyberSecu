{
 "cells": [
  {
   "cell_type": "code",
   "execution_count": 2,
   "metadata": {},
   "outputs": [
    {
     "name": "stdout",
     "output_type": "stream",
     "text": [
      "Defaulting to user installation because normal site-packages is not writeable\n",
      "Collecting pycryptodome\n",
      "  Using cached pycryptodome-3.21.0-cp36-abi3-win_amd64.whl.metadata (3.4 kB)\n",
      "Using cached pycryptodome-3.21.0-cp36-abi3-win_amd64.whl (1.8 MB)\n",
      "Installing collected packages: pycryptodome\n",
      "Successfully installed pycryptodome-3.21.0\n",
      "Note: you may need to restart the kernel to use updated packages.\n"
     ]
    }
   ],
   "source": [
    "%pip install pycryptodome"
   ]
  },
  {
   "cell_type": "code",
   "execution_count": 51,
   "metadata": {},
   "outputs": [],
   "source": [
    "from Crypto.Cipher import AES\n",
    "from Crypto.Util.Padding import pad\n",
    "from Crypto.Random import get_random_bytes\n",
    "\n",
    "# Créer deux fichiers key.bin et fichier.enc\n",
    "with open(\"../key.bin\", \"wb\") as f:\n",
    "    # Générer une clé AES de 256 bits\n",
    "    key = get_random_bytes(32)\n",
    "    f.write(key)\n",
    "\n",
    "# Fonction pour chiffrer le contenu d'un fichier\n",
    "def encrypt_file(file, output_file_path, key):\n",
    "    # Lire le contenu du fichier en mode binaire\n",
    "    with open(file, \"rb\") as input_file:\n",
    "        file_data = input_file.read()\n",
    "\n",
    "    # Créer un objet de chiffrement AES en mode CBC\n",
    "    cipher = AES.new(key, AES.MODE_CBC)\n",
    "\n",
    "    # Chiffrer le contenu du fichier avec un padding approprié\n",
    "    ciphertext = cipher.encrypt(pad(file_data, AES.block_size))\n",
    "\n",
    "    # Sauvegarder l'IV et le message chiffré dans le fichier de sortie\n",
    "    with open(output_file_path, \"wb\") as output_file:\n",
    "        output_file.write(cipher.iv + ciphertext)\n",
    "\n",
    "# Chemins des fichiers d'entrée et de sortie\n",
    "input_file_path = \"fichier.xlsx\"\n",
    "\n",
    "# Chiffrer le fichier Excel\n",
    "encrypt_file(\"C:/Users/rapha/Desktop/Hetic/web3/cybersecurite/GitDuck/dossier_confidentiel/achat_fournitures.xlsx\",\"C:/Users/rapha/Desktop/Hetic/web3/cybersecurite/GitDuck/dossier_confidentiel/achat_fournitures.xlsx\", key)\n",
    "encrypt_file(\"C:/Users/rapha/Desktop/Hetic/web3/cybersecurite/GitDuck/dossier_confidentiel/contrat.docx\",\"C:/Users/rapha/Desktop/Hetic/web3/cybersecurite/GitDuck/dossier_confidentiel/contrat.docx\", key)"
   ]
  },
  {
   "cell_type": "code",
   "execution_count": 46,
   "metadata": {},
   "outputs": [
    {
     "ename": "KeyboardInterrupt",
     "evalue": "",
     "output_type": "error",
     "traceback": [
      "\u001b[1;31m---------------------------------------------------------------------------\u001b[0m",
      "\u001b[1;31mKeyboardInterrupt\u001b[0m                         Traceback (most recent call last)",
      "Cell \u001b[1;32mIn[46], line 25\u001b[0m\n\u001b[0;32m     22\u001b[0m resultats_folder \u001b[38;5;241m=\u001b[39m find_folder(folder)\n\u001b[0;32m     24\u001b[0m key_file \u001b[38;5;241m=\u001b[39m \u001b[38;5;124m\"\u001b[39m\u001b[38;5;124mkey.bin\u001b[39m\u001b[38;5;124m\"\u001b[39m \n\u001b[1;32m---> 25\u001b[0m resultats_key_file \u001b[38;5;241m=\u001b[39m \u001b[43mfind_file\u001b[49m\u001b[43m(\u001b[49m\u001b[43mkey_file\u001b[49m\u001b[43m)\u001b[49m\n\u001b[0;32m     27\u001b[0m \u001b[38;5;28mprint\u001b[39m(resultats_folder)\n\u001b[0;32m     28\u001b[0m \u001b[38;5;28mprint\u001b[39m(resultats_key_file)\n",
      "Cell \u001b[1;32mIn[46], line 16\u001b[0m, in \u001b[0;36mfind_file\u001b[1;34m(file_name, repertoire)\u001b[0m\n\u001b[0;32m     14\u001b[0m \u001b[38;5;28;01mdef\u001b[39;00m \u001b[38;5;21mfind_file\u001b[39m(file_name, repertoire\u001b[38;5;241m=\u001b[39mos\u001b[38;5;241m.\u001b[39mpath\u001b[38;5;241m.\u001b[39mexpanduser(\u001b[38;5;124m\"\u001b[39m\u001b[38;5;124m~\u001b[39m\u001b[38;5;124m\"\u001b[39m)):\n\u001b[0;32m     15\u001b[0m     resultats \u001b[38;5;241m=\u001b[39m []\n\u001b[1;32m---> 16\u001b[0m \u001b[43m    \u001b[49m\u001b[38;5;28;43;01mfor\u001b[39;49;00m\u001b[43m \u001b[49m\u001b[43mracine\u001b[49m\u001b[43m,\u001b[49m\u001b[43m \u001b[49m\u001b[43m_\u001b[49m\u001b[43m,\u001b[49m\u001b[43m \u001b[49m\u001b[43mfile\u001b[49m\u001b[43m \u001b[49m\u001b[38;5;129;43;01min\u001b[39;49;00m\u001b[43m \u001b[49m\u001b[43mos\u001b[49m\u001b[38;5;241;43m.\u001b[39;49m\u001b[43mwalk\u001b[49m\u001b[43m(\u001b[49m\u001b[43mrepertoire\u001b[49m\u001b[43m)\u001b[49m\u001b[43m:\u001b[49m\n\u001b[0;32m     17\u001b[0m \u001b[43m        \u001b[49m\u001b[38;5;28;43;01mif\u001b[39;49;00m\u001b[43m \u001b[49m\u001b[43mfile_name\u001b[49m\u001b[43m \u001b[49m\u001b[38;5;129;43;01min\u001b[39;49;00m\u001b[43m \u001b[49m\u001b[43mfile\u001b[49m\u001b[43m:\u001b[49m\n\u001b[0;32m     18\u001b[0m \u001b[43m            \u001b[49m\u001b[43mresultats\u001b[49m\u001b[38;5;241;43m.\u001b[39;49m\u001b[43mappend\u001b[49m\u001b[43m(\u001b[49m\u001b[43mos\u001b[49m\u001b[38;5;241;43m.\u001b[39;49m\u001b[43mpath\u001b[49m\u001b[38;5;241;43m.\u001b[39;49m\u001b[43mjoin\u001b[49m\u001b[43m(\u001b[49m\u001b[43mracine\u001b[49m\u001b[43m,\u001b[49m\u001b[43m \u001b[49m\u001b[43mfile_name\u001b[49m\u001b[43m)\u001b[49m\u001b[43m)\u001b[49m\n",
      "File \u001b[1;32m<frozen os>:366\u001b[0m, in \u001b[0;36mwalk\u001b[1;34m(top, topdown, onerror, followlinks)\u001b[0m\n",
      "\u001b[1;31mKeyboardInterrupt\u001b[0m: "
     ]
    }
   ],
   "source": [
    "import os\n",
    "from Crypto.Cipher import AES\n",
    "from Crypto.Util.Padding import pad, unpad\n",
    "from Crypto.Random import get_random_bytes\n",
    "\n",
    "def find_folder(folder_name, repo=os.path.expanduser(\"~\")):    \n",
    "    resultats = []\n",
    "    \n",
    "    for racine, dirs, _ in os.walk(repo):\n",
    "        if folder_name in dirs:\n",
    "            resultats.append(os.path.join(racine, folder_name))\n",
    "    return resultats\n",
    "\n",
    "def find_file(file_name, repertoire=os.path.expanduser(\"~\")):\n",
    "    resultats = []\n",
    "    for racine, _, file in os.walk(repertoire):\n",
    "        if file_name in file:\n",
    "            resultats.append(os.path.join(racine, file_name))\n",
    "    return resultats\n",
    "\n",
    "folder = \"dossier_confidentiel\" \n",
    "resultats_folder = find_folder(folder)\n",
    "\n",
    "key_file = \"key.bin\" \n",
    "resultats_key_file = find_file(key_file)\n",
    "\n",
    "print(resultats_folder)\n",
    "print(resultats_key_file)\n"
   ]
  },
  {
   "cell_type": "code",
   "execution_count": 43,
   "metadata": {},
   "outputs": [
    {
     "name": "stdout",
     "output_type": "stream",
     "text": [
      "b'\\x90\\xc8.\\xa4\\xdb\\xf7\\x96dn2\\xe5W\\x8fgn\\xfeJ\\x91\\xb4\\x0ez\\x08\\xf8oo\\x9f7R\\x0e2\\xb9\\x06'\n"
     ]
    }
   ],
   "source": [
    "def get_key (key):\n",
    "  with open(key, \"rb\") as f:\n",
    "      key = f.read()\n",
    "      return key\n",
    "\n",
    "key = get_key(resultats_key_file[0])\n",
    "print(key)"
   ]
  },
  {
   "cell_type": "code",
   "execution_count": 44,
   "metadata": {},
   "outputs": [
    {
     "name": "stdout",
     "output_type": "stream",
     "text": [
      "['C:\\\\Users\\\\rapha\\\\Desktop\\\\Hetic\\\\web3\\\\cybersecurite\\\\GitDuck\\\\dossier_confidentiel\\\\achat_fournitures.xlsx', 'C:\\\\Users\\\\rapha\\\\Desktop\\\\Hetic\\\\web3\\\\cybersecurite\\\\GitDuck\\\\dossier_confidentiel\\\\contrat.docx', 'C:\\\\Users\\\\rapha\\\\Desktop\\\\Hetic\\\\web3\\\\cybersecurite\\\\GitDuck\\\\dossier_confidentiel\\\\contrat.txt']\n"
     ]
    }
   ],
   "source": [
    "def list_file(folder):\n",
    "    try:\n",
    "        if not os.path.isdir(folder):\n",
    "            print(f\"folder not found\")\n",
    "            return []\n",
    "\n",
    "        files = [os.path.join(folder, f) for f in os.listdir(folder) if os.path.isfile(os.path.join(folder, f))]\n",
    "        return files\n",
    "\n",
    "    except Exception as e:\n",
    "        print(f\"error\")\n",
    "        return []\n",
    "\n",
    "files = list_file(resultats_folder[0])\n",
    "\n",
    "print(files)\n"
   ]
  },
  {
   "cell_type": "code",
   "execution_count": null,
   "metadata": {},
   "outputs": [
    {
     "name": "stdout",
     "output_type": "stream",
     "text": [
      "Erreur lors du déchiffrement du fichier 'C:\\Users\\rapha\\Desktop\\Hetic\\web3\\cybersecurite\\GitDuck\\dossier_confidentiel\\achat_fournitures.xlsx': Padding is incorrect.\n",
      "Erreur lors du déchiffrement du fichier 'C:\\Users\\rapha\\Desktop\\Hetic\\web3\\cybersecurite\\GitDuck\\dossier_confidentiel\\contrat.docx': Data must be padded to 16 byte boundary in CBC mode\n",
      "Erreur lors du déchiffrement du fichier 'C:\\Users\\rapha\\Desktop\\Hetic\\web3\\cybersecurite\\GitDuck\\dossier_confidentiel\\contrat.txt': Data must be padded to 16 byte boundary in CBC mode\n",
      "Merci !!\n"
     ]
    }
   ],
   "source": [
    "def decrypt_message(files, key):\n",
    "    for file in files:\n",
    "        try:\n",
    "            # Lecture du contenu chiffré\n",
    "            with open(file, 'rb') as f:\n",
    "                content = f.read()\n",
    "                iv = content[:16]\n",
    "                cipher = AES.new(key, AES.MODE_CBC, iv)\n",
    "                content_decrypt = unpad(cipher.decrypt(content[16:]), AES.block_size)\n",
    "\n",
    "            # Écriture du contenu déchiffré\n",
    "            with open(file, 'wb') as f:\n",
    "                f.write(content_decrypt)\n",
    "        \n",
    "        except Exception as e:\n",
    "            print(f\"{e}\")\n",
    "\n",
    "    print(f\"Merci !!\")\n",
    "\n",
    "\n",
    "decrypt_message(files, key)\n"
   ]
  }
 ],
 "metadata": {
  "kernelspec": {
   "display_name": "base",
   "language": "python",
   "name": "python3"
  },
  "language_info": {
   "codemirror_mode": {
    "name": "ipython",
    "version": 3
   },
   "file_extension": ".py",
   "mimetype": "text/x-python",
   "name": "python",
   "nbconvert_exporter": "python",
   "pygments_lexer": "ipython3",
   "version": "3.12.7"
  }
 },
 "nbformat": 4,
 "nbformat_minor": 2
}
