{
 "cells": [
  {
   "cell_type": "code",
   "execution_count": 2,
   "metadata": {},
   "outputs": [
    {
     "name": "stdout",
     "output_type": "stream",
     "text": [
      "Votre message:  Bonjour, je m'appelle Jacques\n"
     ]
    }
   ],
   "source": [
    "from Crypto.Cipher import AES\n",
    "from Crypto.Util.Padding import pad, unpad\n",
    "from Crypto.Random import get_random_bytes\n",
    "\n",
    "# Déchiffrement du message\n",
    "def decrypt_message(ciphertext, key):\n",
    "    iv = ciphertext[:16]\n",
    "    cipher = AES.new(key, AES.MODE_CBC, iv)\n",
    "    plaintext = unpad(cipher.decrypt(ciphertext[16:]), AES.block_size).decode()\n",
    "    return plaintext\n",
    "with open(\"key.bin\", 'rb') as f:\n",
    "    key = f.read()\n",
    "\n",
    "with open(\"message.enc\", 'rb') as msg:\n",
    "    ciphertext = msg.read()\n",
    "\n",
    "decrypted_msg = decrypt_message(ciphertext, key)\n",
    "\n",
    "print(\"Votre message: \",decrypted_msg)"
   ]
  }
 ],
 "metadata": {
  "kernelspec": {
   "display_name": ".venv",
   "language": "python",
   "name": "python3"
  },
  "language_info": {
   "codemirror_mode": {
    "name": "ipython",
    "version": 3
   },
   "file_extension": ".py",
   "mimetype": "text/x-python",
   "name": "python",
   "nbconvert_exporter": "python",
   "pygments_lexer": "ipython3",
   "version": "3.12.7"
  }
 },
 "nbformat": 4,
 "nbformat_minor": 2
}
