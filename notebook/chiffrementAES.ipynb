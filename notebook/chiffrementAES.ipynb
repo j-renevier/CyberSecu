{
 "cells": [
  {
   "cell_type": "code",
   "execution_count": 1,
   "metadata": {},
   "outputs": [
    {
     "ename": "ModuleNotFoundError",
     "evalue": "No module named 'Crypto'",
     "output_type": "error",
     "traceback": [
      "\u001b[1;31m---------------------------------------------------------------------------\u001b[0m",
      "\u001b[1;31mModuleNotFoundError\u001b[0m                       Traceback (most recent call last)",
      "Cell \u001b[1;32mIn[1], line 1\u001b[0m\n\u001b[1;32m----> 1\u001b[0m \u001b[38;5;28;01mfrom\u001b[39;00m \u001b[38;5;21;01mCrypto\u001b[39;00m\u001b[38;5;21;01m.\u001b[39;00m\u001b[38;5;21;01mCipher\u001b[39;00m \u001b[38;5;28;01mimport\u001b[39;00m AES\n\u001b[0;32m      2\u001b[0m \u001b[38;5;28;01mfrom\u001b[39;00m \u001b[38;5;21;01mCrypto\u001b[39;00m\u001b[38;5;21;01m.\u001b[39;00m\u001b[38;5;21;01mUtil\u001b[39;00m\u001b[38;5;21;01m.\u001b[39;00m\u001b[38;5;21;01mPadding\u001b[39;00m \u001b[38;5;28;01mimport\u001b[39;00m pad, unpad\n\u001b[0;32m      3\u001b[0m \u001b[38;5;28;01mfrom\u001b[39;00m \u001b[38;5;21;01mCrypto\u001b[39;00m\u001b[38;5;21;01m.\u001b[39;00m\u001b[38;5;21;01mRandom\u001b[39;00m \u001b[38;5;28;01mimport\u001b[39;00m get_random_bytes\n",
      "\u001b[1;31mModuleNotFoundError\u001b[0m: No module named 'Crypto'"
     ]
    }
   ],
   "source": [
    "import os\n",
    "from Crypto.Cipher import AES\n",
    "from Crypto.Util.Padding import pad, unpad\n",
    "from Crypto.Random import get_random_bytes\n",
    "import glob\n",
    "\n",
    "# Créer une clé et la sauvegarder dans \"key.bin\"\n",
    "key_path = \"key.bin\"\n",
    "if not os.path.exists(key_path):\n",
    "    with open(key_path, \"wb\") as f:\n",
    "        key = get_random_bytes(32)\n",
    "        f.write(key)\n",
    "else:\n",
    "    with open(key_path, \"rb\") as f:\n",
    "        key = f.read()\n",
    "\n",
    "# Chiffrement d'un fichier\n",
    "def encrypt_file(file_path, output_path, key):\n",
    "    with open(file_path, \"rb\") as f:\n",
    "        data = f.read()  # Lire le fichier en mode binaire\n",
    "    \n",
    "    cipher = AES.new(key, AES.MODE_CBC)\n",
    "    ciphertext = cipher.encrypt(pad(data, AES.block_size))\n",
    "    \n",
    "    with open(output_path, \"wb\") as f:\n",
    "        f.write(cipher.iv + ciphertext)  # Ajouter IV + données chiffrées\n",
    "\n",
    "# Déchiffrement d'un fichier\n",
    "def decrypt_file(file_path, output_path, key):\n",
    "    with open(file_path, \"rb\") as f:\n",
    "        data = f.read()\n",
    "    \n",
    "    iv = data[:16]  # Extraire IV\n",
    "    cipher = AES.new(key, AES.MODE_CBC, iv)\n",
    "    plaintext = unpad(cipher.decrypt(data[16:]), AES.block_size)\n",
    "    \n",
    "    with open(output_path, \"wb\") as f:\n",
    "        f.write(plaintext)  # Écrire les données déchiffrées\n",
    "\n",
    "# Chemin du dossier \"confidentialité\" sur le bureau\n",
    "desktop = os.path.join(os.path.expanduser(\"~\"), \"Desktop\")\n",
    "confidentiality_folder = os.path.join(desktop, \"confidentialite\")\n",
    "\n",
    "# Chiffrer tous les fichiers .xlsx et .docx dans le dossier \"confidentialité\"\n",
    "file_extensions = [\"*.xlsx\", \"*.docx\"]  # Extensions à chiffrer\n",
    "for ext in file_extensions:\n",
    "    # Utiliser glob pour trouver tous les fichiers correspondant à l'extension\n",
    "    for file_path in glob.glob(os.path.join(confidentiality_folder, ext)):\n",
    "        encrypted_path = f\"{file_path}.enc\"  # Ajouter .enc à la fin du nom du fichier\n",
    "        \n",
    "        print(f\"Chiffrement du fichier {file_path}...\")\n",
    "        encrypt_file(file_path, encrypted_path, key)\n",
    "        print(f\"Fichier chiffré : {encrypted_path}\")\n"
   ]
  }
 ],
 "metadata": {
  "kernelspec": {
   "display_name": "base",
   "language": "python",
   "name": "python3"
  },
  "language_info": {
   "codemirror_mode": {
    "name": "ipython",
    "version": 3
   },
   "file_extension": ".py",
   "mimetype": "text/x-python",
   "name": "python",
   "nbconvert_exporter": "python",
   "pygments_lexer": "ipython3",
   "version": "3.12.7"
  }
 },
 "nbformat": 4,
 "nbformat_minor": 2
}
