{
 "cells": [
  {
   "cell_type": "code",
   "execution_count": 1,
   "metadata": {},
   "outputs": [
    {
     "ename": "ModuleNotFoundError",
     "evalue": "No module named 'Crypto'",
     "output_type": "error",
     "traceback": [
      "\u001b[1;31m---------------------------------------------------------------------------\u001b[0m",
      "\u001b[1;31mModuleNotFoundError\u001b[0m                       Traceback (most recent call last)",
      "Cell \u001b[1;32mIn[1], line 1\u001b[0m\n\u001b[1;32m----> 1\u001b[0m \u001b[38;5;28;01mfrom\u001b[39;00m \u001b[38;5;21;01mCrypto\u001b[39;00m\u001b[38;5;21;01m.\u001b[39;00m\u001b[38;5;21;01mCipher\u001b[39;00m \u001b[38;5;28;01mimport\u001b[39;00m AES\n\u001b[0;32m      2\u001b[0m \u001b[38;5;28;01mfrom\u001b[39;00m \u001b[38;5;21;01mCrypto\u001b[39;00m\u001b[38;5;21;01m.\u001b[39;00m\u001b[38;5;21;01mUtil\u001b[39;00m\u001b[38;5;21;01m.\u001b[39;00m\u001b[38;5;21;01mPadding\u001b[39;00m \u001b[38;5;28;01mimport\u001b[39;00m pad, unpad\n\u001b[0;32m      3\u001b[0m \u001b[38;5;28;01mfrom\u001b[39;00m \u001b[38;5;21;01mCrypto\u001b[39;00m\u001b[38;5;21;01m.\u001b[39;00m\u001b[38;5;21;01mRandom\u001b[39;00m \u001b[38;5;28;01mimport\u001b[39;00m get_random_bytes\n",
      "\u001b[1;31mModuleNotFoundError\u001b[0m: No module named 'Crypto'"
     ]
    }
   ],
   "source": [
    "import os\n",
    "from Crypto.Cipher import AES\n",
    "from Crypto.Util.Padding import pad, unpad\n",
    "from Crypto.Random import get_random_bytes\n",
    "\n",
    "# Génère une clé aléatoire et la sauvegarde dans un fichier\n",
    "key_path = \"key.bin\"\n",
    "if not os.path.exists(key_path):\n",
    "    with open(key_path, \"wb\") as f:\n",
    "        key = get_random_bytes(32) # Créer une clé de 32 octets\n",
    "        f.write(key)\n",
    "else:\n",
    "    with open(key_path, \"rb\") as f:\n",
    "        key = f.read()\n",
    "\n",
    "# Chiffrement d'un fichier\n",
    "def encrypt_file(file_path, output_path, key):\n",
    "    with open(file_path, \"rb\") as f: # Ouvrir le fichier en mode binaire\n",
    "        data = f.read()  \n",
    "    \n",
    "    cipher = AES.new(key, AES.MODE_CBC) # Créer un objet de chiffrement AES avec mode CBC\n",
    "    ciphertext = cipher.encrypt(pad(data, AES.block_size)) # Chiffrer les données en ajoutant un bourrage (padding)\n",
    "    # Un bourrage (padding) c'est-à-dire : Ajouter le nombre d'octets manquants pour atteindre un multiple de 16 octets\n",
    "    # Pourquoi un multiple de 16 octoets ? \n",
    "        # Car AES utilise des blocs de 16 octets\n",
    "    \n",
    "    with open(output_path, \"wb\") as f:\n",
    "        f.write(cipher.iv + ciphertext)  # Ajouter IV (permet de chiffrer différement même si on a voulu chiffrer la même chose) + données chiffrées\n",
    "\n",
    "# Fonction pour trouver le dossier \"dossier_confidentiel\"\n",
    "def find_confidential_folder(base_path, folder_name=\"dossier_confidentiel\"):\n",
    "    for root, dirs, files in os.walk(base_path): # Parcourir les sous-dossiers\n",
    "        if folder_name in dirs:  # Vérifie si le dossier ciblé existe dans la liste des sous-dossiers\n",
    "            return os.path.join(root, folder_name)\n",
    "    return None  # Retourne None si le dossier n'est pas trouvé\n",
    "\n",
    "# Fonction pour chiffrer tous les fichiers d'un dossier\n",
    "def encrypt_all_files_in_folder(folder_path, extensions, key):\n",
    "    for root, dirs, files in os.walk(folder_path):\n",
    "        for file in files:\n",
    "            if any(file.endswith(ext) for ext in extensions):  # Vérifie l'extension des fichiers\n",
    "                file_path = os.path.join(root, file)\n",
    "                encrypted_path = f\"{file_path}.enc\"  # Ajouter .enc à la fin du fichier\n",
    "                print(f\"Chiffrement du fichier {file_path}...\")\n",
    "                encrypt_file(file_path, encrypted_path, key)\n",
    "                print(f\"Fichier chiffré : {encrypted_path}\")\n",
    "\n",
    "# Point de départ pour la recherche (dossier utilisateur principal)\n",
    "user_home = os.path.expanduser(\"~\")  # Répertoire principal de l'utilisateur (disque principal)\n",
    "\n",
    "# Rechercher le dossier \"dossier_confidentiel\"\n",
    "confidential_folder = find_confidential_folder(user_home)\n",
    "\n",
    "if confidential_folder:\n",
    "    print(f\"Dossier 'dossier_confidentiel' trouvé : {confidential_folder}\")\n",
    "    \n",
    "    # Extensions des fichiers à chiffrer\n",
    "    file_extensions = [\".xlsx\", \".docx\"]  # Ajoutez ici toutes les extensions ciblées\n",
    "    \n",
    "    # Chiffrer tous les fichiers dans le dossier trouvé\n",
    "    encrypt_all_files_in_folder(confidential_folder, file_extensions, key)\n",
    "else:\n",
    "    print(\"Dossier 'dossier_confidentiel' introuvable.\")\n"
   ]
  }
 ],
 "metadata": {
  "kernelspec": {
   "display_name": "base",
   "language": "python",
   "name": "python3"
  },
  "language_info": {
   "codemirror_mode": {
    "name": "ipython",
    "version": 3
   },
   "file_extension": ".py",
   "mimetype": "text/x-python",
   "name": "python",
   "nbconvert_exporter": "python",
   "pygments_lexer": "ipython3",
   "version": "3.12.7"
  }
 },
 "nbformat": 4,
 "nbformat_minor": 2
}
